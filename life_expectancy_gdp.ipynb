{
 "cells": [
  {
   "cell_type": "code",
   "execution_count": null,
   "metadata": {},
   "outputs": [],
   "source": [
    "import pandas as pd\n",
    "import numpy as np\n",
    "import seaborn as sns\n",
    "import statsmodels\n",
    "import matplotlib.pyplot as plt\n",
    "import math"
   ]
  },
  {
   "cell_type": "code",
   "execution_count": null,
   "metadata": {},
   "outputs": [],
   "source": [
    "dataset = pd.read_csv('all_data.csv')"
   ]
  },
  {
   "cell_type": "code",
   "execution_count": null,
   "metadata": {},
   "outputs": [],
   "source": [
    "#print(dataset.head())\n",
    "#dataset.info()\n",
    "#dataset.describe(include = 'all')\n"
   ]
  },
  {
   "cell_type": "code",
   "execution_count": null,
   "metadata": {
    "scrolled": true
   },
   "outputs": [],
   "source": [
    "colss = dataset.columns.values\n",
    "#print(colss)\n",
    "ucont = (dataset['Country'].unique())\n",
    "\n",
    "for i in ucont:\n",
    "    print(f'For {i}, dataset has following:\\n{dataset[dataset.Country==i].nunique()}\\n')\n",
    "    \n"
   ]
  },
  {
   "cell_type": "code",
   "execution_count": null,
   "metadata": {},
   "outputs": [],
   "source": [
    "#### Summary plots for whole dataset ###\n",
    "\n",
    "for i in colss:\n",
    "    if np.dtype(dataset[i]) == 'object':\n",
    "        labels = set(dataset[i])\n",
    "        ax = sns.countplot(x=i, data=dataset)\n",
    "        ax.set_xticks(range(len(labels)))\n",
    "        ax.set_xticklabels(labels,rotation=30, ha='right')\n",
    "    else:\n",
    "        sns.histplot(x=i, data=dataset)\n",
    "    plt.show()\n",
    "    plt.clf()\n"
   ]
  },
  {
   "cell_type": "code",
   "execution_count": null,
   "metadata": {},
   "outputs": [],
   "source": [
    "### Summary plots for each country ###\n",
    "\n",
    "dataset.rename(columns={\"Life expectancy at birth (years)\": \"LEABY\"}, inplace=True)\n",
    "\n",
    "g = sns.FacetGrid(dataset, col='Country', hue='Country',col_wrap=2, sharey=False, sharex=False)\n",
    "\n",
    "g = (g.map(plt.scatter, \"LEABY\", \"GDP\",  edgecolor=\"w\"))\n",
    "\n",
    "g = g.set_titles(\"{col_name}\")\n",
    "\n",
    "\n",
    "\n",
    "\n",
    "                "
   ]
  },
  {
   "cell_type": "code",
   "execution_count": null,
   "metadata": {},
   "outputs": [],
   "source": [
    "g = sns.FacetGrid(dataset, col='Country', hue='Country',col_wrap=2, sharey=False, sharex=False)\n",
    "\n",
    "g = (g.map(plt.bar, \"Year\", \"GDP\",  edgecolor=\"w\"))\n",
    "\n",
    "g = g.set_titles(\"{col_name}\")"
   ]
  },
  {
   "cell_type": "code",
   "execution_count": null,
   "metadata": {},
   "outputs": [],
   "source": [
    "g = sns.lmplot(x='Year',y='GDP',data=dataset, hue='Country')\n",
    "\n",
    "g2 = sns.lmplot(x='Year',y='GDP',data=dataset, col='Country', col_wrap=2,hue='Country', facet_kws=dict(sharex=False, sharey=False))\n",
    "g2 = g2.set_titles({col_name})\n"
   ]
  },
  {
   "cell_type": "code",
   "execution_count": null,
   "metadata": {},
   "outputs": [],
   "source": []
  },
  {
   "cell_type": "code",
   "execution_count": null,
   "metadata": {},
   "outputs": [],
   "source": []
  }
 ],
 "metadata": {
  "kernelspec": {
   "display_name": "Python 3 (ipykernel)",
   "language": "python",
   "name": "python3"
  },
  "language_info": {
   "codemirror_mode": {
    "name": "ipython",
    "version": 3
   },
   "file_extension": ".py",
   "mimetype": "text/x-python",
   "name": "python",
   "nbconvert_exporter": "python",
   "pygments_lexer": "ipython3",
   "version": "3.11.9"
  }
 },
 "nbformat": 4,
 "nbformat_minor": 4
}
