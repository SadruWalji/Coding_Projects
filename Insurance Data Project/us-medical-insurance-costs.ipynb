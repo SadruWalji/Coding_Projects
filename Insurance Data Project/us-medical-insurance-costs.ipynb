{
 "cells": [
  {
   "cell_type": "markdown",
   "metadata": {},
   "source": [
    "# U.S. Medical Insurance Costs"
   ]
  },
  {
   "cell_type": "markdown",
   "metadata": {},
   "source": [
    "Medical data has following columns: age, sex, bmi, children, smoker, region, charges.\n",
    "Goals here will be: \n",
    "- initial summary of each category\n",
    "- ascertain cost per variable through linreg\n"
   ]
  },
  {
   "cell_type": "code",
   "execution_count": 1,
   "metadata": {},
   "outputs": [
    {
     "name": "stdout",
     "output_type": "stream",
     "text": [
      "{'sex': {'female': [0, 0], 'male': [0, 0]}, 'smoker': {'yes': [0, 0], 'no': [0, 0]}, 'region': {'southwest': [0, 0], 'southeast': [0, 0], 'northwest': [0, 0], 'northeast': [0, 0]}}\n",
      "{'sex': {'female': [0, 0], 'male': [0, 0]}, 'smoker': {'yes': [0, 0], 'no': [0, 0]}, 'region': {'southwest': [0, 0], 'southeast': [0, 0], 'northwest': [0, 0], 'northeast': [0, 0]}}\n"
     ]
    }
   ],
   "source": [
    "import csv\n",
    "\n",
    "\n",
    "\n",
    "with open('insurance.csv', newline='') as insurance_obj:\n",
    "    insurance_dict = csv.DictReader(insurance_obj)\n",
    "    insurance_dict_all = list(insurance_dict)\n",
    "\n",
    "regions = []\n",
    "\n",
    "for i in insurance_dict_all:\n",
    "    for k,v in i.items():\n",
    "        if k == 'region':\n",
    "            regions.append(v)\n",
    "\n",
    "categoricals = {'sex':[],'smoker':[],'region':[]}\n",
    "\n",
    "for i in insurance_dict_all:\n",
    "    for k,v in i.items():\n",
    "        for l,m in categoricals.items():\n",
    "            if k == l and v not in m:\n",
    "                m.append(v)\n",
    "\n",
    "categoricals_dict = {}\n",
    "for k,v in categoricals.items():\n",
    "    temp_a = {}\n",
    "    for i in v:\n",
    "        temp_a.update({i:[0,0]})\n",
    "    categoricals_dict.update({k:temp_a})\n",
    "\n",
    "\n",
    "print(categoricals_dict)\n",
    "\n",
    "    \n",
    "\n",
    "unique_regions = []\n",
    "\n",
    "for item in regions: \n",
    "    if item not in unique_regions: \n",
    "        unique_regions.append(item)\n",
    "\n",
    "zeros = [0 for i in range(len(unique_regions))]\n",
    "print(categoricals_dict)\n",
    "\n",
    "    \n",
    "#variables: age, sex, bmi, children, smoker, region, charges\n",
    "# note all variables imported as string"
   ]
  },
  {
   "cell_type": "code",
   "execution_count": 2,
   "metadata": {},
   "outputs": [
    {
     "name": "stdout",
     "output_type": "stream",
     "text": [
      "{'sex': {'female': [0, 0], 'male': [0, 0]}, 'smoker': {'yes': [0, 0], 'no': [0, 0]}, 'region': {'southwest': [0, 0], 'southeast': [0, 0], 'northwest': [0, 0], 'northeast': [0, 0]}}\n"
     ]
    }
   ],
   "source": [
    "## create averages for numeric values and counts for categorical values\n",
    "\n",
    "regions = dict(list(zip(unique_regions,zeros)))\n",
    "avgs = {'age': 0, 'bmi':0, 'children':0 , 'charges' :0}\n",
    "cate = {'sex':{'female':0,'male':0}, 'smoker':{'yes':0, 'no':0}, 'region':regions}\n",
    "\n",
    "def averages(dict):\n",
    "    for i in dict:\n",
    "        avgs['age'] += float(i['age'])\n",
    "        avgs['bmi'] += float(i['bmi'])\n",
    "        avgs['children'] += float(i['children'])\n",
    "        avgs['charges'] += float(i['charges'])\n",
    "    for k,v in avgs.items():\n",
    "        avgs[k] = round((v/len(dict)),2)\n",
    "    for i in dict:\n",
    "        for k,v in cate.items():\n",
    "            for l,m in v.items():\n",
    "                if (i[k]) == l:\n",
    "                    v[l] += 1\n",
    "    return avgs, cate\n",
    "\n",
    "\n",
    "averages(insurance_dict_all)\n",
    "print(categoricals_dict)"
   ]
  },
  {
   "cell_type": "code",
   "execution_count": 3,
   "metadata": {},
   "outputs": [
    {
     "data": {
      "text/plain": [
       "({'age': 17755824.990759, 'bmi': 17755824.990759, 'children': 17755824.990759},\n",
       " {'sex': {'female': [8321061.194618994, 662, 12569.57884383534],\n",
       "   'male': [9434763.796139995, 676, 13956.751177721886]},\n",
       "  'smoker': {'yes': [8781763.52184, 274, 32050.23183153285],\n",
       "   'no': [8974061.468918996, 1064, 8434.268297856199]},\n",
       "  'region': {'southwest': [4012754.647620001, 325, 12346.93737729231],\n",
       "   'southeast': [5363689.763290002, 364, 14735.411437609895],\n",
       "   'northwest': [4035711.9965399993, 325, 12417.575373969228],\n",
       "   'northeast': [4343668.583308999, 324, 13406.3845163858]}})"
      ]
     },
     "execution_count": 3,
     "metadata": {},
     "output_type": "execute_result"
    }
   ],
   "source": [
    "## create averages for numeric values and counts for categorical values\n",
    "\n",
    "\n",
    "for k,v in categoricals.items():\n",
    "    temp_a = {}\n",
    "    for i in v:\n",
    "        temp_a.update({i:[0,0]})\n",
    "    categoricals_dict.update({k:temp_a})\n",
    "\n",
    "# print(categoricals_dict)\n",
    "categoricals2 = categoricals_dict\n",
    "# print(categoricals_dict)\n",
    "\n",
    "num_cost = {'age': 0, 'bmi':0, 'children':0}\n",
    "cat_cost = categoricals2\n",
    "\n",
    "def costs(dict):\n",
    "    for i in dict:\n",
    "        for k,v in i.items():\n",
    "            for l,m in num_cost.items():\n",
    "                if k == l:\n",
    "                    num_cost[l] += float(i['charges'])\n",
    "    for i in dict:\n",
    "        for k,v in cat_cost.items():\n",
    "            for l,m in v.items():               \n",
    "                if (i[k]) == l:\n",
    "                    v[l][0] += float(i['charges'])\n",
    "                    v[l][1] += 1\n",
    "    for k,v in cat_cost.items():\n",
    "        for l,m in v.items():\n",
    "            v[l].append((v[l][0]/(v[l][1])))\n",
    "    return num_cost, cat_cost\n",
    "\n",
    "\n",
    "costs(insurance_dict_all)"
   ]
  },
  {
   "cell_type": "code",
   "execution_count": 4,
   "metadata": {},
   "outputs": [
    {
     "name": "stdout",
     "output_type": "stream",
     "text": [
      "age\n",
      "[18, 25, 278, 9011.340317334529]\n",
      "[25, 35, 271, 10352.392525793359]\n",
      "[35, 45, 260, 13134.168692692307]\n",
      "[45, 55, 287, 15853.927878188151]\n",
      "[55, 65, 242, 18513.276226900805]\n",
      "bmi\n",
      "[15, 20, 41, 8838.561135121954]\n",
      "[20, 25, 204, 10572.372498431374]\n",
      "[25, 30, 386, 10987.509891318654]\n",
      "[30, 35, 391, 14419.6749696931]\n",
      "[35, 40, 225, 17022.2588827111]\n",
      "[40, 45, 71, 16569.5983059155]\n",
      "[45, 50, 17, 17815.03640647059]\n",
      "[50, 55, 3, 16034.305366666667]\n",
      "children\n",
      "[0, 1, 574, 12365.975601635882]\n",
      "[1, 2, 324, 12731.171831635793]\n",
      "[2, 3, 240, 15073.563733958328]\n",
      "[3, 4, 157, 15355.31836681528]\n",
      "[4, 5, 25, 13850.656311199999]\n",
      "[5, 6, 18, 8786.035247222222]\n"
     ]
    }
   ],
   "source": [
    "numericals = ['age','bmi','children']\n",
    "\n",
    "# keys2 = list(set([k for i in insurance_dict_all for k in i.keys()]))\n",
    "\n",
    "keys2 = [{i:[]} for i in numericals]\n",
    "keys2.append({'charges':[]})\n",
    "for i in keys2:\n",
    "    for k,v in i.items():\n",
    "        for i in insurance_dict_all:\n",
    "            for l,m in i.items():\n",
    "                if k == l:\n",
    "                    # print(v,m)\n",
    "                    v.append(float(m))\n",
    "                 \n",
    "max_min = [{k:[max(v), min(v)]} for i in keys2 for k,v in i.items()]\n",
    "\n",
    "# print(,max_min)\n",
    "\n",
    "num_bounds = [{i:[]} for i in numericals]\n",
    "for i in num_bounds:\n",
    "    for k,v in i.items():\n",
    "        if k == 'age':\n",
    "            temp = list(zip([x for x in range(25,65,10)],[x for x in range(35,76,10)]))\n",
    "            v.append([18,25])\n",
    "            for j in temp:\n",
    "                v.append(list(j))\n",
    "        if k == 'bmi':\n",
    "            temp = list(zip([x for x in range(15,55,5)],[x for x in range(20,56,5)]))\n",
    "            for j in temp:\n",
    "                v.append(list(j))\n",
    "        if k == 'children':\n",
    "            temp = list(zip([x for x in range(0,6)],[x for x in range(1,7)]))\n",
    "            for j in temp:\n",
    "                v.append(list(j))\n",
    "# print(num_bounds)\n",
    "\n",
    "numerical_bin_counts = num_bounds\n",
    "# print(numerical_bin_counts)\n",
    "for j in numerical_bin_counts:\n",
    "    # print(j)\n",
    "    for l,m in j.items():\n",
    "        for n in m:\n",
    "            # print(n)\n",
    "            count = 0\n",
    "            cost = 0\n",
    "            for i in insurance_dict_all:\n",
    "                for k,v in i.items():\n",
    "                    if l == k:\n",
    "                        # print(n,v,i['charges'])\n",
    "                        if n[0] <= float(v) < n[1]:\n",
    "                            # print(n[0], v, n[1])\n",
    "                            count += 1\n",
    "                            cost += float(i['charges'])\n",
    "            # print(n,count,cost)\n",
    "            n.extend((count, cost/count))\n",
    "                    \n",
    "\n",
    "\n",
    "for i in numerical_bin_counts:\n",
    "    for k,v in i.items():\n",
    "        print(k)\n",
    "        for j in v:\n",
    "            print(j)\n",
    "                "
   ]
  },
  {
   "cell_type": "code",
   "execution_count": 5,
   "metadata": {},
   "outputs": [],
   "source": [
    "# #sanity check \n",
    "\n",
    "# san_list = []\n",
    "# for k,v in cat_cost.items():\n",
    "#     #print(v)\n",
    "#     counter = 0\n",
    "#     for l,m in v.items():\n",
    "#         counter += m\n",
    "#     san_list.append(counter)\n",
    "\n",
    "# print(san_list)\n",
    "# len(insurance_dict_all)\n"
   ]
  },
  {
   "cell_type": "code",
   "execution_count": null,
   "metadata": {},
   "outputs": [],
   "source": []
  },
  {
   "cell_type": "code",
   "execution_count": null,
   "metadata": {},
   "outputs": [],
   "source": []
  },
  {
   "cell_type": "code",
   "execution_count": null,
   "metadata": {},
   "outputs": [],
   "source": []
  },
  {
   "cell_type": "code",
   "execution_count": null,
   "metadata": {},
   "outputs": [],
   "source": []
  },
  {
   "cell_type": "code",
   "execution_count": null,
   "metadata": {},
   "outputs": [],
   "source": []
  }
 ],
 "metadata": {
  "kernelspec": {
   "display_name": "Python 3 (ipykernel)",
   "language": "python",
   "name": "python3"
  },
  "language_info": {
   "codemirror_mode": {
    "name": "ipython",
    "version": 3
   },
   "file_extension": ".py",
   "mimetype": "text/x-python",
   "name": "python",
   "nbconvert_exporter": "python",
   "pygments_lexer": "ipython3",
   "version": "3.11.9"
  }
 },
 "nbformat": 4,
 "nbformat_minor": 4
}
